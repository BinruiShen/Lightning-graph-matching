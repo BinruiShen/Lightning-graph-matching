{
 "cells": [
  {
   "cell_type": "markdown",
   "id": "e79b1104-524b-4321-8ab0-8cf10b1e1700",
   "metadata": {
    "tags": []
   },
   "source": [
    "# Lightning spectral assignment matching"
   ]
  },
  {
   "cell_type": "code",
   "execution_count": 58,
   "id": "7ea03b03-9500-4cd7-80c6-205f78462f68",
   "metadata": {},
   "outputs": [],
   "source": [
    "import time\n",
    "import numpy as np\n",
    "from scipy.optimize import linear_sum_assignment\n",
    "from scipy.spatial import Delaunay\n",
    "\n",
    "\n",
    "def hugarian(matrix):\n",
    "    \"\"\"\n",
    "    Huangrian method for assignment problem\n",
    "    Input: a matrix\n",
    "    Output: an assignment matrix \n",
    "    \"\"\"\n",
    "    n, m = matrix.shape\n",
    "    P = np.mat(np.zeros((n, m)))\n",
    "    row_ind, col_ind = linear_sum_assignment(-matrix)\n",
    "    P[row_ind, col_ind] = 1\n",
    "    return P\n",
    "\n",
    "\n",
    "def get_adjacency_matrix(tri):\n",
    "    \"\"\"\n",
    "    Get ajdacency matrix from scipy triangulation\n",
    "    Input: scipy.spatial.Delaunay triangulation\n",
    "    Output: Weighted adjacency matrix,\n",
    "            Weighted sparse adjacency matrix,\n",
    "            Unweighted sparse adjacency matrix\n",
    "    \"\"\"\n",
    "    # Important: edges may contain duplicates\n",
    "    edges = np.concatenate(\n",
    "        (tri.vertices[:, :2], tri.vertices[:, 1:], tri.vertices[:, ::2]), axis=0\n",
    "    )\n",
    "    n = tri.points.shape[0]\n",
    "    adj = np.zeros((n, n), dtype=np.int64)\n",
    "    adj[edges[:, 0], edges[:, 1]] = 1\n",
    "    return np.clip(adj + adj.T, 0, 1)\n",
    "\n",
    "\n",
    "def creact_adjacency(nPoints, connectionRate=1):\n",
    "    \"\"\"\n",
    "    Creat rondom graphs by random 2D points\n",
    "    Input: number of points, connection rate of graph\n",
    "    Output: adjacency matrix\n",
    "    \"\"\"\n",
    "    X = np.random.rand(nPoints, 2)  # Create random points\n",
    "    aj = np.zeros((nPoints, nPoints))\n",
    "\n",
    "    for i in range(nPoints):  # Compute distance matrices\n",
    "        for j in range(i, nPoints):\n",
    "            if np.random.random() < connectionRate:\n",
    "                aj[i, j] = np.linalg.norm(X[i] - X[j])\n",
    "                aj[j, i] = aj[i, j]\n",
    "\n",
    "    tri = Delaunay(X)\n",
    "    aj_tri_bin = np.mat(get_adjacency_matrix(tri))  # Unweighted sparse adjacency matrix\n",
    "    aj_del = np.mat(np.multiply(aj_tri_bin, aj))  # Weighted sparse adjacency matrix\n",
    "    aj = np.mat(aj)  # Weighted adjacency matrix\n",
    "    return aj, aj_del, aj_tri_bin\n",
    "\n",
    "\n",
    "def compute_lead_egenvecr(Mat, eps=1e-4):\n",
    "    \"\"\"\n",
    "    Compute the leading eigenvector of a given matrix\n",
    "    Input: a matrix\n",
    "    return: leading eigenvecor: n*1 matrix\n",
    "    \"\"\"\n",
    "    Mat = np.mat(Mat)\n",
    "    n, _ = Mat.shape\n",
    "    vec = np.mat(np.ones((n, 1)))\n",
    "\n",
    "    for i in range(20):\n",
    "        tmp_vec = Mat * vec\n",
    "        tmp_vec = tmp_vec / abs(tmp_vec).max()\n",
    "        difference = abs(vec - tmp_vec).max()\n",
    "        vec = tmp_vec\n",
    "        if difference < eps:\n",
    "            # print(str(i) + \" iterations done\")\n",
    "            break\n",
    "    return vec\n",
    "\n",
    "\n",
    "def rank_permutation(vec1, vec2):\n",
    "    \"\"\"\n",
    "    Solve the assignment problem defined by np.kron(vec1, vec2.T)\n",
    "    input: two vector\n",
    "    return:an assignment matrix P\n",
    "    \"\"\"\n",
    "    n_points1 = np.shape(vec1)[0]\n",
    "    n_points2 = np.shape(vec2)[0]\n",
    "    order1 = np.argsort(-vec1, axis=0)\n",
    "    order2 = np.argsort(-vec2, axis=0)\n",
    "    P = np.mat(np.zeros((n_points1, n_points2)))\n",
    "    for i in range(min(n_points1, n_points2)):\n",
    "        P[order1[i, 0], order2[i, 0]] = 1\n",
    "    return P\n",
    "\n",
    "\n",
    "def graphmatch_LiSA(adjacency1, adjacency2):\n",
    "    \"\"\"\n",
    "    Lightning spectral assignment algorithm for graph matching\n",
    "    input: two adjacency matrice\n",
    "    return: an assignment matrix P, running time\n",
    "    \"\"\"\n",
    "    start = time.perf_counter()\n",
    "\n",
    "    eigen_vec_1 = compute_lead_egenvecr(adjacency1)\n",
    "    eigen_vec_2 = compute_lead_egenvecr(adjacency2)\n",
    "    P = rank_permutation(eigen_vec_1, eigen_vec_2)\n",
    "\n",
    "    end = time.perf_counter()\n",
    "    runtime = end - start\n",
    "    return P, runtime\n",
    "\n",
    "\n",
    "def graphmatch_SMKB(adjacency1, adjacency2, erro=0.1):\n",
    "    \"\"\"\n",
    "    Spectral matching algorithm based on KoopmansBeckmann’s QAP\n",
    "    input: two adjacency matrice\n",
    "    return: an assignment matrix P, running time\n",
    "    \"\"\"\n",
    "    print(\"##################### SM-KB ##############################\")\n",
    "\n",
    "    start = time.perf_counter()\n",
    "    n, _ = adjacency1.shape\n",
    "    m, _ = adjacency2.shape\n",
    "    X = np.mat(np.ones((n, m))) / (n * m)\n",
    "\n",
    "    for i in range(30):\n",
    "        x = X\n",
    "        X = adjacency1 * X * adjacency2\n",
    "        X = X / X.max()\n",
    "        err = abs(x - X).max()\n",
    "        # print(i, err)\n",
    "        if err < erro:\n",
    "            # print(\"converge\")\n",
    "            break\n",
    "\n",
    "    P = hugarian(X)\n",
    "    end = time.perf_counter()\n",
    "    runtime = end - start\n",
    "    return P, runtime\n",
    "\n",
    "\n",
    "def graphmatch_SM(adjacency1, adjacency2, erro=0.1):\n",
    "    \"\"\"\n",
    "    Spectral matching algorithm for graph matching\n",
    "    input: two adjacency matrice\n",
    "    return: an assignment matrix P, running time\n",
    "    \"\"\"\n",
    "    print(\"##################### SM ##############################\")\n",
    "\n",
    "    start = time.perf_counter()\n",
    "\n",
    "    W = np.kron(adjacency1, adjacency2)\n",
    "    x = compute_lead_egenvecr(W)\n",
    "\n",
    "    n, _ = adjacency1.shape\n",
    "    m, _ = adjacency2.shape\n",
    "    soft_P = x.reshape((n, m))\n",
    "    P = hugarian(soft_P)\n",
    "\n",
    "    end = time.perf_counter()\n",
    "    runtime = end - start\n",
    "    return P, runtime"
   ]
  },
  {
   "cell_type": "markdown",
   "id": "0866b052-d2f3-452f-a62b-e585c9e64c0a",
   "metadata": {},
   "source": [
    "## Comparasion in small graphs (100 nodes)"
   ]
  },
  {
   "cell_type": "code",
   "execution_count": 63,
   "id": "5978b21c-7105-4e97-9947-92cf9cd995e2",
   "metadata": {},
   "outputs": [],
   "source": [
    "nPoints = 100\n",
    "aj, aj_del, aj_tri_bin = creact_adjacency(nPoints)"
   ]
  },
  {
   "cell_type": "code",
   "execution_count": 64,
   "id": "f67e9a5e-4670-477b-8453-f41f45a95947",
   "metadata": {},
   "outputs": [
    {
     "name": "stdout",
     "output_type": "stream",
     "text": [
      "##################### SM ##############################\n",
      "The running time of SM: 1.32044sec\n",
      "The accuracy of SM: 1.0\n"
     ]
    }
   ],
   "source": [
    "P_SM, time_SM = graphmatch_SM(aj, aj)\n",
    "accuracy_SM = np.sum(np.diag(P_SM)) / nPoints\n",
    "print(\"The running time of SM: \" + str(np.round(time_SM, 5)) + \"sec\")\n",
    "print(\"The accuracy of SM: \" + str(np.round(accuracy_SM, 1)))"
   ]
  },
  {
   "cell_type": "code",
   "execution_count": 65,
   "id": "6d609654-0cbb-47ac-ab9d-54d367d9124a",
   "metadata": {},
   "outputs": [
    {
     "name": "stdout",
     "output_type": "stream",
     "text": [
      "##################### SM-KB ##############################\n",
      "The running time of SM-KB: 0.0036sec\n",
      "The accuracy of SM-KB: 1.0\n"
     ]
    }
   ],
   "source": [
    "P_SMKB, time_SMKB = graphmatch_SMKB(aj, aj)\n",
    "accuracy_SMKB = np.sum(np.diag(P_SMKB)) / nPoints\n",
    "print(\"The running time of SM-KB: \" + str(np.round(time_SMKB, 5)) + \"sec\")\n",
    "print(\"The accuracy of SM-KB: \" + str(np.round(accuracy_SMKB, 1)))"
   ]
  },
  {
   "cell_type": "code",
   "execution_count": 66,
   "id": "852cb704-acd7-4dfe-b8d8-f3b937156fd6",
   "metadata": {},
   "outputs": [
    {
     "name": "stdout",
     "output_type": "stream",
     "text": [
      "The running time of LiSA: 0.00193sec\n",
      "The accuracy of LiSA: 1.0\n"
     ]
    }
   ],
   "source": [
    "P_LiSA, time_LiSA = graphmatch_LiSA(aj, aj)\n",
    "accuracy_LiSA = np.sum(np.diag(P_LiSA)) / nPoints\n",
    "print(\"The running time of LiSA: \" + str(np.round(time_LiSA, 5)) + \"sec\")\n",
    "print(\"The accuracy of LiSA: \" + str(np.round(accuracy_LiSA, 1)))"
   ]
  },
  {
   "cell_type": "markdown",
   "id": "da8351e0-82fa-40b1-8f2a-37ec1abfd20d",
   "metadata": {},
   "source": [
    "## Comparasion in large graphs (5000 nodes)"
   ]
  },
  {
   "cell_type": "code",
   "execution_count": 71,
   "id": "91282187-7c0b-4407-bd77-f7e8c822143d",
   "metadata": {},
   "outputs": [],
   "source": [
    "nPoints = 5000\n",
    "aj, aj_del, aj_tri_bin = creact_adjacency(nPoints)"
   ]
  },
  {
   "cell_type": "code",
   "execution_count": 72,
   "id": "f69aa21c-f49a-4278-9354-1e2bdbb1e061",
   "metadata": {},
   "outputs": [
    {
     "name": "stdout",
     "output_type": "stream",
     "text": [
      "##################### SM-KB ##############################\n",
      "The running time of SM-KB: 203.46984sec\n",
      "The accuracy of SM-KB: 1.0\n"
     ]
    }
   ],
   "source": [
    "P_SMKB, time_SMKB = graphmatch_SMKB(aj, aj)\n",
    "accuracy_SMKB = np.sum(np.diag(P_SMKB)) / nPoints\n",
    "print(\"The running time of SM-KB: \" + str(np.round(time_SMKB, 5)) + \"sec\")\n",
    "print(\"The accuracy of SM-KB: \" + str(np.round(accuracy_SMKB, 1)))"
   ]
  },
  {
   "cell_type": "code",
   "execution_count": 73,
   "id": "1644e808-b9ac-4fab-9f36-9b16f9727288",
   "metadata": {},
   "outputs": [
    {
     "name": "stdout",
     "output_type": "stream",
     "text": [
      "The running time of LiSA: 0.11065sec\n",
      "The accuracy of LiSA: 1.0\n"
     ]
    }
   ],
   "source": [
    "P_LiSA, time_LiSA = graphmatch_LiSA(aj, aj)\n",
    "accuracy_LiSA = np.sum(np.diag(P_LiSA)) / nPoints\n",
    "print(\"The running time of LiSA: \" + str(np.round(time_LiSA, 5)) + \"sec\")\n",
    "print(\"The accuracy of LiSA: \" + str(np.round(accuracy_LiSA, 1)))"
   ]
  },
  {
   "cell_type": "code",
   "execution_count": null,
   "id": "da28ac10-1147-4cb6-b876-8467f64db76c",
   "metadata": {},
   "outputs": [],
   "source": []
  }
 ],
 "metadata": {
  "kernelspec": {
   "display_name": "Python 3 (ipykernel)",
   "language": "python",
   "name": "python3"
  },
  "language_info": {
   "codemirror_mode": {
    "name": "ipython",
    "version": 3
   },
   "file_extension": ".py",
   "mimetype": "text/x-python",
   "name": "python",
   "nbconvert_exporter": "python",
   "pygments_lexer": "ipython3",
   "version": "3.9.7"
  }
 },
 "nbformat": 4,
 "nbformat_minor": 5
}
